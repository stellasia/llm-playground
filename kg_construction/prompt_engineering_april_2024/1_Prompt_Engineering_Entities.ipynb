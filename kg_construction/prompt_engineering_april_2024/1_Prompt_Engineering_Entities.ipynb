{
 "cells": [
  {
   "cell_type": "markdown",
   "source": [
    "# Building KG with LLM - Part 1: extract entities\n",
    "\n",
    "Some references:\n",
    "- https://www.youtube.com/watch?v=Hg4ahTQlBm0\n",
    "\n",
    "\n"
   ],
   "metadata": {
    "collapsed": false
   },
   "id": "222ea964c5f774ce"
  },
  {
   "cell_type": "code",
   "outputs": [],
   "source": [
    "#!pip install python-dotenv openai"
   ],
   "metadata": {
    "collapsed": true,
    "ExecuteTime": {
     "end_time": "2024-04-12T08:59:46.587808Z",
     "start_time": "2024-04-12T08:59:46.577597Z"
    }
   },
   "id": "initial_id",
   "execution_count": 2
  },
  {
   "cell_type": "code",
   "outputs": [],
   "source": [
    "import os\n",
    "from dotenv import load_dotenv\n",
    "load_dotenv()\n",
    "\n",
    "OPEN_API_KEY = os.getenv(\"OPEN_API_KEY\")"
   ],
   "metadata": {
    "collapsed": false,
    "ExecuteTime": {
     "end_time": "2024-04-12T11:49:47.708915Z",
     "start_time": "2024-04-12T11:49:47.678248Z"
    }
   },
   "id": "a64937be167f6dae",
   "execution_count": 1
  },
  {
   "cell_type": "code",
   "outputs": [],
   "source": [
    "from openai import OpenAI\n",
    "\n",
    "client = OpenAI(\n",
    "    # This is the default and can be omitted\n",
    "    api_key=OPEN_API_KEY,\n",
    ")"
   ],
   "metadata": {
    "collapsed": false,
    "ExecuteTime": {
     "end_time": "2024-04-12T11:49:48.524466Z",
     "start_time": "2024-04-12T11:49:47.710068Z"
    }
   },
   "id": "9e67021fe2bc858b",
   "execution_count": 2
  },
  {
   "cell_type": "code",
   "outputs": [],
   "source": [
    "text = \"\"\"\n",
    "Edward Jones (7 April 1824 – c. 1893 or 1896), also known as \"the boy Jones\", was an English stalker who became notorious for breaking into Buckingham Palace several times between 1838 and 1841.\n",
    "\n",
    "Jones was fourteen years old when he first broke into the palace in December 1838. He was found in possession of some items he had stolen, but was acquitted at his trial. He broke in again in 1840, ten days after Queen Victoria had given birth to Princess Victoria. Staff found him hiding under a sofa and he was arrested and subsequently questioned by the Privy Council—the monarch's formal body of advisers. He was sentenced to three months' hard labour at Tothill Fields Bridewell prison. He was released in March 1841 and broke back into the palace two weeks later, where he was caught stealing food from the larders. He was again arrested and sentenced to three months' hard labour at Tothill Fields.\n",
    "\"\"\"\n",
    "# https://en.wikipedia.org/wiki/The_boy_Jones"
   ],
   "metadata": {
    "collapsed": false,
    "ExecuteTime": {
     "end_time": "2024-04-12T12:11:16.684213Z",
     "start_time": "2024-04-12T12:11:16.678371Z"
    }
   },
   "id": "321ebdc0f242e36d",
   "execution_count": 8
  },
  {
   "cell_type": "markdown",
   "source": [
    "\n",
    "## GOAL\n",
    "\n",
    "\n",
    "What we want to do is to extract entities and relations in a parsable format, that we can then import into a KG with Cypher:\n",
    "{\n",
    "   \"entities\": [{\"type\": \"Person\", \"value\": \"XXX\", \"id\": 1}, ...],\n",
    "   \"relations\": [{\"type\": \"KNOWS\", \"from_entity\": 1, \"to_entity\": 2, \"since\": \"...\"}, ...]\n",
    "}\n",
    "\n",
    "## Simple prompts\n"
   ],
   "metadata": {
    "collapsed": false
   },
   "id": "f80002f0add1fa0c"
  },
  {
   "cell_type": "code",
   "outputs": [
    {
     "name": "stdout",
     "output_type": "stream",
     "text": [
      "Entities:\n",
      "1. Edward Jones\n",
      "2. Buckingham Palace\n",
      "3. Queen Victoria\n",
      "4. Princess Victoria\n",
      "5. Tothill Fields Bridewell prison\n",
      "6. Privy Council\n"
     ]
    }
   ],
   "source": [
    "prompt_template = \"\"\"Extract the entities from the following text:\n",
    "\n",
    "{text}\n",
    "\"\"\"\n",
    "prompt = prompt_template.format(text=text)\n",
    "\n",
    "\n",
    "completion = client.chat.completions.create(\n",
    "    messages=[\n",
    "        {\n",
    "            \"role\": \"user\",\n",
    "            \"content\": prompt,\n",
    "        }\n",
    "    ],\n",
    "    model=\"gpt-3.5-turbo\",\n",
    "    temperature=0,\n",
    ")\n",
    "\n",
    "print(completion.choices[0].message.content)"
   ],
   "metadata": {
    "collapsed": false,
    "ExecuteTime": {
     "end_time": "2024-04-12T12:11:18.135038Z",
     "start_time": "2024-04-12T12:11:17.043438Z"
    }
   },
   "id": "9886849a54b942ca",
   "execution_count": 9
  },
  {
   "cell_type": "code",
   "outputs": [
    {
     "name": "stdout",
     "output_type": "stream",
     "text": [
      "Entities:\n",
      "1. Edward Jones (Person)\n",
      "2. Buckingham Palace (Location)\n",
      "3. Queen Victoria (Person)\n",
      "4. Princess Victoria (Person)\n",
      "5. Tothill Fields Bridewell prison (Location)\n",
      "6. Privy Council (Organization)\n"
     ]
    }
   ],
   "source": [
    "prompt_template = \"\"\"Extract the entities and specify their type from the following text:\n",
    "\n",
    "{text}\n",
    "\"\"\"\n",
    "prompt = prompt_template.format(text=text)\n",
    "\n",
    "\n",
    "completion = client.chat.completions.create(\n",
    "    messages=[\n",
    "        {\n",
    "            \"role\": \"user\",\n",
    "            \"content\": prompt,\n",
    "        }\n",
    "    ],\n",
    "    model=\"gpt-3.5-turbo\",\n",
    "    temperature=0,\n",
    ")\n",
    "\n",
    "print(completion.choices[0].message.content)"
   ],
   "metadata": {
    "collapsed": false,
    "ExecuteTime": {
     "end_time": "2024-04-12T12:11:19.234770Z",
     "start_time": "2024-04-12T12:11:18.136270Z"
    }
   },
   "id": "37685e59c55b0116",
   "execution_count": 10
  },
  {
   "cell_type": "code",
   "outputs": [
    {
     "name": "stdout",
     "output_type": "stream",
     "text": [
      "{\n",
      "  \"entities\": [\n",
      "    {\n",
      "      \"name\": \"Edward Jones\",\n",
      "      \"type\": \"Person\"\n",
      "    },\n",
      "    {\n",
      "      \"name\": \"7 April 1824\",\n",
      "      \"type\": \"Date\"\n",
      "    },\n",
      "    {\n",
      "      \"name\": \"1893 or 1896\",\n",
      "      \"type\": \"Date\"\n",
      "    },\n",
      "    {\n",
      "      \"name\": \"the boy Jones\",\n",
      "      \"type\": \"Nickname\"\n",
      "    },\n",
      "    {\n",
      "      \"name\": \"Buckingham Palace\",\n",
      "      \"type\": \"Location\"\n",
      "    },\n",
      "    {\n",
      "      \"name\": \"England\",\n",
      "      \"type\": \"Location\"\n",
      "    },\n",
      "    {\n",
      "      \"name\": \"Queen Victoria\",\n",
      "      \"type\": \"Person\"\n",
      "    },\n",
      "    {\n",
      "      \"name\": \"Princess Victoria\",\n",
      "      \"type\": \"Person\"\n",
      "    },\n",
      "    {\n",
      "      \"name\": \"Privy Council\",\n",
      "      \"type\": \"Organization\"\n",
      "    },\n",
      "    {\n",
      "      \"name\": \"Tothill Fields Bridewell prison\",\n",
      "      \"type\": \"Location\"\n",
      "    },\n",
      "    {\n",
      "      \"name\": \"March 1841\",\n",
      "      \"type\": \"Date\"\n",
      "    }\n",
      "  ]\n",
      "}\n"
     ]
    }
   ],
   "source": [
    "prompt_template = \"\"\"Extract the entities and specify their type from the following text. Return result as JSON.\n",
    "\n",
    "{text}\n",
    "\"\"\"\n",
    "prompt = prompt_template.format(text=text)\n",
    "\n",
    "\n",
    "completion = client.chat.completions.create(\n",
    "    messages=[\n",
    "        {\n",
    "            \"role\": \"user\",\n",
    "            \"content\": prompt,\n",
    "        }\n",
    "    ],\n",
    "    model=\"gpt-3.5-turbo\",\n",
    "    temperature=0,\n",
    ")\n",
    "\n",
    "print(completion.choices[0].message.content)"
   ],
   "metadata": {
    "collapsed": false,
    "ExecuteTime": {
     "end_time": "2024-04-16T09:59:02.388933Z",
     "start_time": "2024-04-16T09:58:57.361401Z"
    }
   },
   "id": "25f2c31f828ae183",
   "execution_count": 31
  },
  {
   "cell_type": "code",
   "outputs": [
    {
     "name": "stdout",
     "output_type": "stream",
     "text": [
      "{\n",
      "  \"entities\": [\n",
      "    {\n",
      "      \"name\": \"Edward Jones\",\n",
      "      \"type\": \"Person\"\n",
      "    },\n",
      "    {\n",
      "      \"name\": \"Buckingham Palace\",\n",
      "      \"type\": \"Location\"\n",
      "    },\n",
      "    {\n",
      "      \"name\": \"Queen Victoria\",\n",
      "      \"type\": \"Person\"\n",
      "    },\n",
      "    {\n",
      "      \"name\": \"Princess Victoria\",\n",
      "      \"type\": \"Person\"\n",
      "    },\n",
      "    {\n",
      "      \"name\": \"Tothill Fields Bridewell prison\",\n",
      "      \"type\": \"Location\"\n",
      "    },\n",
      "    {\n",
      "      \"name\": \"Privy Council\",\n",
      "      \"type\": \"Organization\"\n",
      "    }\n",
      "  ],\n",
      "  \"relationships\": [\n",
      "    {\n",
      "      \"source\": \"Edward Jones\",\n",
      "      \"relation\": \"was known as\",\n",
      "      \"target\": \"the boy Jones\"\n",
      "    },\n",
      "    {\n",
      "      \"source\": \"Edward Jones\",\n",
      "      \"relation\": \"broke into\",\n",
      "      \"target\": \"Buckingham Palace\"\n",
      "    },\n",
      "    {\n",
      "      \"source\": \"Edward Jones\",\n",
      "      \"relation\": \"was questioned by\",\n",
      "      \"target\": \"Privy Council\"\n",
      "    },\n",
      "    {\n",
      "      \"source\": \"Queen Victoria\",\n",
      "      \"relation\": \"gave birth to\",\n",
      "      \"target\": \"Princess Victoria\"\n",
      "    },\n",
      "    {\n",
      "      \"source\": \"Edward Jones\",\n",
      "      \"relation\": \"was sentenced to\",\n",
      "      \"target\": \"Tothill Fields Bridewell prison\"\n",
      "    }\n",
      "  ]\n",
      "}\n"
     ]
    }
   ],
   "source": [
    "prompt_template = \"\"\"Extract the entities and specify their type from the following text. Also extract relationships between these entities. Return result as JSON.\n",
    "\n",
    "{text}\n",
    "\"\"\"\n",
    "prompt = prompt_template.format(text=text)\n",
    "\n",
    "\n",
    "completion = client.chat.completions.create(\n",
    "    messages=[\n",
    "        {\n",
    "            \"role\": \"user\",\n",
    "            \"content\": prompt,\n",
    "        }\n",
    "    ],\n",
    "    model=\"gpt-3.5-turbo\",\n",
    "    temperature=0,\n",
    ")\n",
    "\n",
    "print(completion.choices[0].message.content)"
   ],
   "metadata": {
    "collapsed": false,
    "ExecuteTime": {
     "end_time": "2024-04-15T14:47:28.885801Z",
     "start_time": "2024-04-15T14:47:24.088665Z"
    }
   },
   "id": "9f978efa9025cfbe",
   "execution_count": 22
  },
  {
   "cell_type": "markdown",
   "source": [
    "- Entities extracted\n",
    "- Relationships extracted\n",
    "We can do some post-processing to make it look like a property graph. Or we can tune the prompt. \n",
    "\n",
    "## Let's focus on entities for a while"
   ],
   "metadata": {
    "collapsed": false
   },
   "id": "40c0a005ceaf0134"
  },
  {
   "cell_type": "code",
   "outputs": [
    {
     "name": "stdout",
     "output_type": "stream",
     "text": [
      "{\n",
      "  \"entities\": [\n",
      "    {\n",
      "      \"text\": \"Edward Jones\",\n",
      "      \"type\": \"Person\"\n",
      "    },\n",
      "    {\n",
      "      \"text\": \"Buckingham Palace\",\n",
      "      \"type\": \"Location\"\n",
      "    },\n",
      "    {\n",
      "      \"text\": \"Queen Victoria\",\n",
      "      \"type\": \"Person\"\n",
      "    },\n",
      "    {\n",
      "      \"text\": \"Princess Victoria\",\n",
      "      \"type\": \"Person\"\n",
      "    },\n",
      "    {\n",
      "      \"text\": \"Privy Council\",\n",
      "      \"type\": \"Organization\"\n",
      "    },\n",
      "    {\n",
      "      \"text\": \"Tothill Fields Bridewell prison\",\n",
      "      \"type\": \"Location\"\n",
      "    }\n",
      "  ]\n",
      "}\n"
     ]
    }
   ],
   "source": [
    "prompt_template = \"\"\"Extract the entities and specify their type from the following text. Return result as JSON.\n",
    "Use only fhe following entity types:\n",
    "\n",
    "Entities:\n",
    "- Person\n",
    "- Organization\n",
    "- Event\n",
    "- Location\n",
    "\n",
    "Text:\n",
    "{text}\n",
    "\"\"\"\n",
    "prompt = prompt_template.format(text=text)\n",
    "\n",
    "\n",
    "completion = client.chat.completions.create(\n",
    "    messages=[\n",
    "        {\n",
    "            \"role\": \"user\",\n",
    "            \"content\": prompt,\n",
    "        }\n",
    "    ],\n",
    "    model=\"gpt-3.5-turbo\",\n",
    "    temperature=0,\n",
    ")\n",
    "\n",
    "print(completion.choices[0].message.content)"
   ],
   "metadata": {
    "collapsed": false,
    "ExecuteTime": {
     "end_time": "2024-04-15T20:08:36.877500Z",
     "start_time": "2024-04-15T20:08:34.455711Z"
    }
   },
   "id": "4aab55ba78db246d",
   "execution_count": 27
  },
  {
   "cell_type": "code",
   "outputs": [
    {
     "name": "stdout",
     "output_type": "stream",
     "text": [
      "{\n",
      "  \"entities\": [\n",
      "    {\n",
      "      \"type\": \"Person\",\n",
      "      \"name\": \"Edward Jones\",\n",
      "      \"dateOfBirth\": \"7 April 1824\",\n",
      "      \"nickname\": \"the boy Jones\",\n",
      "      \"nationality\": \"English\"\n",
      "    },\n",
      "    {\n",
      "      \"type\": \"Organization\",\n",
      "      \"name\": \"Buckingham Palace\",\n",
      "      \"description\": \"royal residence\"\n",
      "    },\n",
      "    {\n",
      "      \"type\": \"Event\",\n",
      "      \"name\": \"breaking into Buckingham Palace\",\n",
      "      \"date\": \"between 1838 and 1841\"\n",
      "    },\n",
      "    {\n",
      "      \"type\": \"Location\",\n",
      "      \"name\": \"Tothill Fields Bridewell prison\"\n",
      "    },\n",
      "    {\n",
      "      \"type\": \"Person\",\n",
      "      \"name\": \"Queen Victoria\",\n",
      "      \"gender\": \"F\"\n",
      "    },\n",
      "    {\n",
      "      \"type\": \"Person\",\n",
      "      \"name\": \"Princess Victoria\",\n",
      "      \"gender\": \"F\"\n",
      "    },\n",
      "    {\n",
      "      \"type\": \"Organization\",\n",
      "      \"name\": \"Privy Council\",\n",
      "      \"description\": \"monarch's formal body of advisers\"\n",
      "    }\n",
      "  ]\n",
      "}\n"
     ]
    }
   ],
   "source": [
    "prompt_template = \"\"\"Extract the entities and specify their type from the following text. Return result as JSON.\n",
    "Use only fhe following entities and properties:\n",
    "Entities:\n",
    "- Person: name, dateOfBirth, gender (M or F), nationality, nickname\n",
    "- Organization: name, description\n",
    "- Event: name, date\n",
    "- Location: name\n",
    "All properties but the first one are optional.\n",
    "\n",
    "Text!\n",
    "{text}\n",
    "\"\"\"\n",
    "prompt = prompt_template.format(text=text)\n",
    "\n",
    "\n",
    "completion = client.chat.completions.create(\n",
    "    messages=[\n",
    "        {\n",
    "            \"role\": \"user\",\n",
    "            \"content\": prompt,\n",
    "        }\n",
    "    ],\n",
    "    model=\"gpt-3.5-turbo\",\n",
    "    temperature=0,\n",
    ")\n",
    "\n",
    "print(completion.choices[0].message.content)"
   ],
   "metadata": {
    "collapsed": false,
    "ExecuteTime": {
     "end_time": "2024-04-15T20:10:02.566646Z",
     "start_time": "2024-04-15T20:09:58.567430Z"
    }
   },
   "id": "2c1de97934cce098",
   "execution_count": 30
  },
  {
   "cell_type": "code",
   "outputs": [],
   "source": [],
   "metadata": {
    "collapsed": false
   },
   "id": "169619bd01bb8888"
  }
 ],
 "metadata": {
  "kernelspec": {
   "display_name": "Python 3",
   "language": "python",
   "name": "python3"
  },
  "language_info": {
   "codemirror_mode": {
    "name": "ipython",
    "version": 2
   },
   "file_extension": ".py",
   "mimetype": "text/x-python",
   "name": "python",
   "nbconvert_exporter": "python",
   "pygments_lexer": "ipython2",
   "version": "2.7.6"
  }
 },
 "nbformat": 4,
 "nbformat_minor": 5
}
