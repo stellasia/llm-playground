{
 "cells": [
  {
   "cell_type": "markdown",
   "source": [
    "# Building KG with LLM - Part 2: extract relationships\n",
    "\n"
   ],
   "metadata": {
    "collapsed": false
   },
   "id": "222ea964c5f774ce"
  },
  {
   "cell_type": "code",
   "outputs": [],
   "source": [
    "#!pip install python-dotenv openai"
   ],
   "metadata": {
    "collapsed": true,
    "ExecuteTime": {
     "end_time": "2024-04-12T08:59:46.587808Z",
     "start_time": "2024-04-12T08:59:46.577597Z"
    }
   },
   "id": "initial_id",
   "execution_count": 2
  },
  {
   "cell_type": "code",
   "outputs": [],
   "source": [
    "import os\n",
    "from dotenv import load_dotenv\n",
    "load_dotenv()\n",
    "\n",
    "OPEN_API_KEY = os.getenv(\"OPEN_API_KEY\")"
   ],
   "metadata": {
    "collapsed": false,
    "ExecuteTime": {
     "end_time": "2024-04-13T16:47:45.003496Z",
     "start_time": "2024-04-13T16:47:44.961131Z"
    }
   },
   "id": "a64937be167f6dae",
   "execution_count": 2
  },
  {
   "cell_type": "code",
   "outputs": [],
   "source": [
    "from openai import OpenAI\n",
    "\n",
    "client = OpenAI(\n",
    "    # This is the default and can be omitted\n",
    "    api_key=OPEN_API_KEY,\n",
    ")"
   ],
   "metadata": {
    "collapsed": false,
    "ExecuteTime": {
     "end_time": "2024-04-13T16:47:46.882308Z",
     "start_time": "2024-04-13T16:47:45.285952Z"
    }
   },
   "id": "9e67021fe2bc858b",
   "execution_count": 3
  },
  {
   "cell_type": "code",
   "outputs": [],
   "source": [
    "text = \"\"\"\n",
    "Edward Jones (7 April 1824 – c. 1893 or 1896), also known as \"the boy Jones\", was an English stalker who became notorious for breaking into Buckingham Palace several times between 1838 and 1841.\n",
    "\n",
    "Jones was fourteen years old when he first broke into the palace in December 1838. He was found in possession of some items he had stolen, but was acquitted at his trial. He broke in again in 1840, ten days after Queen Victoria had given birth to Princess Victoria. Staff found him hiding under a sofa and he was arrested and subsequently questioned by the Privy Council—the monarch's formal body of advisers. He was sentenced to three months' hard labour at Tothill Fields Bridewell prison. He was released in March 1841 and broke back into the palace two weeks later, where he was caught stealing food from the larders. He was again arrested and sentenced to three months' hard labour at Tothill Fields.\n",
    "\"\"\"\n",
    "# https://en.wikipedia.org/wiki/The_boy_Jones"
   ],
   "metadata": {
    "collapsed": false,
    "ExecuteTime": {
     "end_time": "2024-04-13T16:47:46.888756Z",
     "start_time": "2024-04-13T16:47:46.883396Z"
    }
   },
   "id": "321ebdc0f242e36d",
   "execution_count": 4
  },
  {
   "cell_type": "markdown",
   "source": [
    "\n",
    "## GOAL\n",
    "\n",
    "\n",
    "What I want to do is to extract entities and relations in a parsable format, that I can then import into a KG with Cypher:\n",
    "{\n",
    "   \"entities\": [{\"type\": \"Person\", \"value\": \"XXX\", \"id\": 1}, ...],\n",
    "   \"relations\": [{\"type\": \"KNOWS\", \"from_entity\": 1, \"to_entity\": 2, \"since\": \"...\"}, ...]\n",
    "}\n",
    "\n",
    "## First approach\n"
   ],
   "metadata": {
    "collapsed": false
   },
   "id": "f80002f0add1fa0c"
  },
  {
   "cell_type": "code",
   "outputs": [
    {
     "name": "stdout",
     "output_type": "stream",
     "text": [
      "{\n",
      "  \"entities\": [\n",
      "    {\n",
      "      \"Person\": {\n",
      "        \"name\": \"Edward Jones\",\n",
      "        \"dateOfBirth\": \"7 April 1824\",\n",
      "        \"nickname\": \"the boy Jones\",\n",
      "        \"nationality\": \"English\"\n",
      "      }\n",
      "    },\n",
      "    {\n",
      "      \"Organization\": {\n",
      "        \"name\": \"Buckingham Palace\"\n",
      "      }\n",
      "    },\n",
      "    {\n",
      "      \"Event\": {\n",
      "        \"name\": \"breaking into Buckingham Palace\",\n",
      "        \"date\": \"between 1838 and 1841\"\n",
      "      }\n",
      "    },\n",
      "    {\n",
      "      \"Event\": {\n",
      "        \"name\": \"first break-in\",\n",
      "        \"date\": \"December 1838\"\n",
      "      }\n",
      "    },\n",
      "    {\n",
      "      \"Event\": {\n",
      "        \"name\": \"second break-in\",\n",
      "        \"date\": \"1840\"\n",
      "      }\n",
      "    },\n",
      "    {\n",
      "      \"Event\": {\n",
      "        \"name\": \"third break-in\",\n",
      "        \"date\": \"March 1841\"\n",
      "      }\n",
      "    },\n",
      "    {\n",
      "      \"Organization\": {\n",
      "        \"name\": \"Tothill Fields Bridewell prison\"\n",
      "      }\n",
      "    }\n",
      "  ],\n",
      "  \"relations\": [\n",
      "    {\n",
      "      \"PARTICIPATED_TO\": {\n",
      "        \"Person\": \"Edward Jones\",\n",
      "        \"Event\": \"breaking into Buckingham Palace\",\n",
      "        \"role\": \"intruder\"\n",
      "      }\n",
      "    },\n",
      "    {\n",
      "      \"TOOK_PLACE_AT\": {\n",
      "        \"Event\": \"breaking into Buckingham Palace\",\n",
      "        \"Location\": \"Buckingham Palace\"\n",
      "      }\n",
      "    },\n",
      "    {\n",
      "      \"PARTICIPATED_TO\": {\n",
      "        \"Person\": \"Edward Jones\",\n",
      "        \"Event\": \"first break-in\",\n",
      "        \"role\": \"intruder\"\n",
      "      }\n",
      "    },\n",
      "    {\n",
      "      \"PARTICIPATED_TO\": {\n",
      "        \"Person\": \"Edward Jones\",\n",
      "        \"Event\": \"second break-in\",\n",
      "        \"role\": \"intruder\"\n",
      "      }\n",
      "    },\n",
      "    {\n",
      "      \"PARTICIPATED_TO\": {\n",
      "        \"Person\": \"Edward Jones\",\n",
      "        \"Event\": \"third break-in\",\n",
      "        \"role\": \"intruder\"\n",
      "      }\n",
      "    },\n",
      "    {\n",
      "      \"MEMBER_OF\": {\n",
      "        \"Person\": \"Edward Jones\",\n",
      "        \"Organization\": \"Tothill Fields Bridewell prison\"\n",
      "      }\n",
      "    }\n",
      "  ]\n",
      "}\n"
     ]
    }
   ],
   "source": [
    "prompt_template = \"\"\"Extract the entities and specify their type from the following text. Also extract the relations between these entities. \n",
    "Return result as JSON.\n",
    "\n",
    "Use only fhe following entities and relations:\n",
    "Entities:\n",
    "- Person: name, dateOfBirth, gender, nationality, nickname\n",
    "- Organization: name\n",
    "- Event: name, date\n",
    "\n",
    "Relations:\n",
    "- PARTICIPATED_TO (from Person to Event): role\n",
    "- MEMBER_OF (from Person to Organisation)\n",
    "- TOOK_PLACE_AT (from Location to Event)\n",
    "\n",
    "Text:\n",
    "{text}\n",
    "\"\"\"\n",
    "prompt = prompt_template.format(text=text)\n",
    "\n",
    "\n",
    "completion = client.chat.completions.create(\n",
    "    messages=[\n",
    "        {\n",
    "            \"role\": \"user\",\n",
    "            \"content\": prompt,\n",
    "        }\n",
    "    ],\n",
    "    model=\"gpt-3.5-turbo\",\n",
    "    temperature=0,\n",
    ")\n",
    "\n",
    "print(completion.choices[0].message.content)"
   ],
   "metadata": {
    "collapsed": false,
    "ExecuteTime": {
     "end_time": "2024-04-15T20:56:42.209317Z",
     "start_time": "2024-04-15T20:56:36.114888Z"
    }
   },
   "id": "f9c8d988b216a4a2",
   "execution_count": 11
  },
  {
   "cell_type": "code",
   "outputs": [
    {
     "name": "stdout",
     "output_type": "stream",
     "text": [
      "{\n",
      "    \"entities\": [\n",
      "        {\"id\": 1, \"type\": \"Person\", \"name\": \"Edward Jones\", \"dateOfBirth\": \"7 April 1824\", \"nickname\": \"the boy Jones\", \"nationality\": \"English\"},\n",
      "        {\"id\": 2, \"type\": \"Organization\", \"name\": \"Buckingham Palace\"},\n",
      "        {\"id\": 3, \"type\": \"Event\", \"name\": \"breaking into Buckingham Palace\", \"date\": \"between 1838 and 1841\"},\n",
      "        {\"id\": 4, \"type\": \"Event\", \"name\": \"first break-in\", \"date\": \"December 1838\"},\n",
      "        {\"id\": 5, \"type\": \"Event\", \"name\": \"second break-in\", \"date\": \"1840\"},\n",
      "        {\"id\": 6, \"type\": \"Event\", \"name\": \"third break-in\", \"date\": \"March 1841\"}\n",
      "    ],\n",
      "    \"relations\": [\n",
      "        {\"type\": \"PARTICIPATED_TO\", \"from_entity\": 1, \"to_entity\": 3, \"role\": \"perpetrator\"},\n",
      "        {\"type\": \"TOOK_PLACE_AT\", \"from_entity\": 2, \"to_entity\": 3},\n",
      "        {\"type\": \"PARTICIPATED_TO\", \"from_entity\": 1, \"to_entity\": 4, \"role\": \"perpetrator\"},\n",
      "        {\"type\": \"PARTICIPATED_TO\", \"from_entity\": 1, \"to_entity\": 5, \"role\": \"perpetrator\"},\n",
      "        {\"type\": \"PARTICIPATED_TO\", \"from_entity\": 1, \"to_entity\": 6, \"role\": \"perpetrator\"}\n",
      "    ]\n",
      "}\n"
     ]
    }
   ],
   "source": [
    "prompt_template = \"\"\"Extract the entities and specify their type from the following text. Also extract the relations between these entities. \n",
    "Return result as JSON.\n",
    "\n",
    "Use only fhe following entities and relations:\n",
    "Entities:\n",
    "- Person: name, dateOfBirth, gender, nationality, nickname\n",
    "- Organization: name\n",
    "- Event: name, date\n",
    "\n",
    "Relations:\n",
    "- PARTICIPATED_TO (from Person to Event): role\n",
    "- MEMBER_OF (from Person to Organisation)\n",
    "- TOOK_PLACE_AT (from Location to Event)\n",
    "\n",
    "Assign a unique ID to each entity, and reuse it to define relationships. For instance:\n",
    "- Entity1: id=1, type=\"Person\", name=\"John Doe\"\n",
    "- Entity2: id=2, type=\"Location\" value=\"England\"\n",
    "- Relationship: type=\"WAS_BORN_IN\", from_entity: 1, to_entity: 2\n",
    "\n",
    "Text:\n",
    "{text}\n",
    "\"\"\"\n",
    "prompt = prompt_template.format(text=text)\n",
    "\n",
    "\n",
    "completion = client.chat.completions.create(\n",
    "    messages=[\n",
    "        {\n",
    "            \"role\": \"user\",\n",
    "            \"content\": prompt,\n",
    "        }\n",
    "    ],\n",
    "    model=\"gpt-3.5-turbo\",\n",
    "    temperature=0,\n",
    ")\n",
    "\n",
    "print(completion.choices[0].message.content)"
   ],
   "metadata": {
    "collapsed": false,
    "ExecuteTime": {
     "end_time": "2024-04-15T20:57:00.374921Z",
     "start_time": "2024-04-15T20:56:54.582760Z"
    }
   },
   "id": "2c1de97934cce098",
   "execution_count": 12
  },
  {
   "cell_type": "code",
   "outputs": [],
   "source": [],
   "metadata": {
    "collapsed": false
   },
   "id": "f04fb3e11fb46822"
  }
 ],
 "metadata": {
  "kernelspec": {
   "display_name": "Python 3",
   "language": "python",
   "name": "python3"
  },
  "language_info": {
   "codemirror_mode": {
    "name": "ipython",
    "version": 2
   },
   "file_extension": ".py",
   "mimetype": "text/x-python",
   "name": "python",
   "nbconvert_exporter": "python",
   "pygments_lexer": "ipython2",
   "version": "2.7.6"
  }
 },
 "nbformat": 4,
 "nbformat_minor": 5
}
