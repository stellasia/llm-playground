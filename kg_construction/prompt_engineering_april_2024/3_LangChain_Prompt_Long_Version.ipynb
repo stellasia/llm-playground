{
 "cells": [
  {
   "cell_type": "markdown",
   "source": [
    "# \"LLMGraphTransformer\""
   ],
   "metadata": {
    "collapsed": false
   },
   "id": "ff2132b0c43396c6"
  },
  {
   "cell_type": "markdown",
   "source": [
    "- https://github.com/langchain-ai/langchain/blob/master/libs/experimental/langchain_experimental/graph_transformers/llm.py#L279\n",
    "- https://github.com/neo4j-labs/llm-graph-builder/blob/main/backend/src/openAI_llm.py\n",
    "- https://python.langchain.com/docs/use_cases/graph/constructing/\n",
    "\n"
   ],
   "metadata": {
    "collapsed": false
   },
   "id": "b499864792972658"
  },
  {
   "cell_type": "code",
   "outputs": [],
   "source": [
    "allowed_nodes = [\"Person\", \"Location\", \"Event\", \"Organisation\"]\n",
    "allowed_rels = [\"PARTICIPATED_TO\", \"MEMBER_OF\"]\n",
    "\n",
    "messages = [(\n",
    "          \"system\",\n",
    "          f\"\"\"\n",
    "## 1. Overview\n",
    "You are a top-tier algorithm designed for extracting information in structured formats to build a knowledge graph.\n",
    "- **Nodes** represent entities and concepts. They're akin to Wikipedia nodes.\n",
    "- The aim is to achieve simplicity and clarity in the knowledge graph, making it accessible for a vast audience.\n",
    "## 2. Labeling Nodes\n",
    "- **Consistency**: Ensure you use basic or elementary types for node labels.\n",
    "  - For example, when you identify an entity representing a person, always label it as **\"person\"**. Avoid using more specific terms like \"mathematician\" or \"scientist\".\n",
    "- **Node IDs**: Never utilize integers as node IDs. Node IDs should be names or human-readable identifiers found in the text.\n",
    "{'- **Allowed Node Labels:**' + \", \".join(allowed_nodes) if allowed_nodes else \"\"}\n",
    "{'- **Allowed Relationship Types**:' + \", \".join(allowed_rels) if allowed_rels else \"\"}\n",
    "## 3. Handling Numerical Data and Dates\n",
    "- Numerical data, like age or other related information, should be incorporated as attributes or properties of the respective nodes.\n",
    "- **No Separate Nodes for Dates/Numbers**: Do not create separate nodes for dates or numerical values. Always attach them as attributes or properties of nodes.\n",
    "- **Property Format**: Properties must be in a key-value format.\n",
    "- **Quotation Marks**: Never use escaped single or double quotes within property values.\n",
    "- **Naming Convention**: Use camelCase for property keys, e.g., `birthDate`.\n",
    "## 4. Coreference Resolution\n",
    "- **Maintain Entity Consistency**: When extracting entities, it's vital to ensure consistency.\n",
    "If an entity, such as \"John Doe\", is mentioned multiple times in the text but is referred to by different names or pronouns (e.g., \"Joe\", \"he\"),\n",
    "always use the most complete identifier for that entity throughout the knowledge graph. In this example, use \"John Doe\" as the entity ID.\n",
    "Remember, the knowledge graph should be coherent and easily understandable, so maintaining consistency in entity references is crucial.\n",
    "## 5. Strict Compliance\n",
    "- **Not allowed Values** : Do not use 'Source' as label for any node and 'RELATIONSHIP' as relationship type for any relationships in graph.\n",
    "- **Colon values** : You may encounter colon(:) in content (example: Time references, description of title after heading). Please \n",
    "treat them as text and do not treat them as dictionaries. For example, if time \"10:00\" is mentioned, considered it as part of text \n",
    "content, not as data structure.\n",
    "Adhere to the rules strictly. Non-compliance will result in termination.\n",
    "          \"\"\"),\n",
    "            (\"human\", \"Use the given format to extract information from the following input: {input}\"),\n",
    "            (\"human\", \"Tip: Make sure to answer in the correct format\"),\n",
    "]"
   ],
   "metadata": {
    "collapsed": false,
    "ExecuteTime": {
     "end_time": "2024-04-15T19:55:00.036201Z",
     "start_time": "2024-04-15T19:55:00.028126Z"
    }
   },
   "id": "16fa52f501cabb62",
   "execution_count": 2
  },
  {
   "cell_type": "raw",
   "source": [
    "!pip install langchain_experimental"
   ],
   "metadata": {
    "collapsed": false
   },
   "id": "105dc846b346feab"
  },
  {
   "cell_type": "code",
   "outputs": [],
   "source": [
    "import os\n",
    "from dotenv import load_dotenv\n",
    "load_dotenv()\n",
    "\n",
    "OPEN_API_KEY = os.getenv(\"OPEN_API_KEY\")"
   ],
   "metadata": {
    "collapsed": false,
    "ExecuteTime": {
     "end_time": "2024-04-15T20:59:42.110733Z",
     "start_time": "2024-04-15T20:59:42.086113Z"
    }
   },
   "id": "c2c825a8ff3acefb",
   "execution_count": 4
  },
  {
   "cell_type": "code",
   "outputs": [],
   "source": [
    "text = \"\"\"Edward Jones (7 April 1824 – c. 1893 or 1896), also known as \"the boy Jones\", was an English stalker who became notorious for breaking into Buckingham Palace several times between 1838 and 1841.\n",
    "\n",
    "Jones was fourteen years old when he first broke into the palace in December 1838. He was found in possession of some items he had stolen, but was acquitted at his trial. He broke in again in 1840, ten days after Queen Victoria had given birth to Princess Victoria. Staff found him hiding under a sofa and he was arrested and subsequently questioned by the Privy Council—the monarch's formal body of advisers. He was sentenced to three months' hard labour at Tothill Fields Bridewell prison. He was released in March 1841 and broke back into the palace two weeks later, where he was caught stealing food from the larders. He was again arrested and sentenced to three months' hard labour at Tothill Fields.\n",
    "\"\"\""
   ],
   "metadata": {
    "collapsed": false,
    "ExecuteTime": {
     "end_time": "2024-04-15T21:00:30.024965Z",
     "start_time": "2024-04-15T21:00:30.019097Z"
    }
   },
   "id": "a70cd8b24caf6cf9",
   "execution_count": 6
  },
  {
   "cell_type": "code",
   "outputs": [
    {
     "name": "stdout",
     "output_type": "stream",
     "text": [
      "Nodes:[Node(id='Edward Jones', type='Person'), Node(id='Buckingham Palace', type='Place'), Node(id='Queen Victoria', type='Person'), Node(id='Princess Victoria', type='Person'), Node(id='Tothill Fields Bridewell Prison', type='Place')]\n",
      "Relationships:[Relationship(source=Node(id='Edward Jones', type='Person'), target=Node(id='Buckingham Palace', type='Place'), type='BROKE_INTO'), Relationship(source=Node(id='Edward Jones', type='Person'), target=Node(id='Queen Victoria', type='Person'), type='BROKE_INTO'), Relationship(source=Node(id='Edward Jones', type='Person'), target=Node(id='Princess Victoria', type='Person'), type='BROKE_INTO'), Relationship(source=Node(id='Edward Jones', type='Person'), target=Node(id='Tothill Fields Bridewell Prison', type='Place'), type='SENTENCED_TO')]\n"
     ]
    }
   ],
   "source": [
    "from langchain_core.documents import Document\n",
    "from langchain_openai import ChatOpenAI\n",
    "from langchain_experimental.graph_transformers import LLMGraphTransformer\n",
    "\n",
    "llm = ChatOpenAI(temperature=0, model_name=\"gpt-3.5-turbo\")\n",
    "\n",
    "llm_transformer = LLMGraphTransformer(llm=llm)\n",
    "\n",
    "documents = [Document(page_content=text)]\n",
    "graph_documents = llm_transformer.convert_to_graph_documents(documents)\n",
    "print(f\"Nodes:{graph_documents[0].nodes}\")\n",
    "print(f\"Relationships:{graph_documents[0].relationships}\")"
   ],
   "metadata": {
    "collapsed": false,
    "ExecuteTime": {
     "end_time": "2024-04-15T21:00:54.140340Z",
     "start_time": "2024-04-15T21:00:48.842631Z"
    }
   },
   "id": "3f3ffad77d3b35c1",
   "execution_count": 7
  },
  {
   "cell_type": "code",
   "outputs": [],
   "source": [],
   "metadata": {
    "collapsed": false
   },
   "id": "41d4ea7e56baba42"
  }
 ],
 "metadata": {
  "kernelspec": {
   "display_name": "Python 3",
   "language": "python",
   "name": "python3"
  },
  "language_info": {
   "codemirror_mode": {
    "name": "ipython",
    "version": 2
   },
   "file_extension": ".py",
   "mimetype": "text/x-python",
   "name": "python",
   "nbconvert_exporter": "python",
   "pygments_lexer": "ipython2",
   "version": "2.7.6"
  }
 },
 "nbformat": 4,
 "nbformat_minor": 5
}
