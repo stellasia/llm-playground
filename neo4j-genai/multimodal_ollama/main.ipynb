{
 "cells": [
  {
   "metadata": {},
   "cell_type": "markdown",
   "source": [
    "# Multimodal RAG with the neo4j-genai package\n",
    "\n",
    "```shell\n",
    "NEO4J_URI=bolt://localhost:7687\n",
    "NEO4J_USER=neo4j\n",
    "NEO4J_PASSWORD=password\n",
    "NEO4J_DATABASE=neo4j\n",
    "```"
   ],
   "id": "cb501e7626afdf6"
  },
  {
   "metadata": {},
   "cell_type": "code",
   "source": [
    "import os\n",
    "from dotenv import load_dotenv\n",
    "\n",
    "import neo4j\n",
    "import ollama\n",
    "\n",
    "from PIL import Image\n",
    "from sentence_transformers import SentenceTransformer\n",
    "\n",
    "from neo4j_genai.retrievers import VectorRetriever, VectorCypherRetriever\n",
    "from neo4j_genai.types import RetrieverResultItem\n",
    "from neo4j_genai.embeddings import SentenceTransformerEmbeddings\n",
    "from neo4j_genai.llm import LLMInterface\n",
    "from neo4j_genai.llm.types import LLMResponse\n",
    "from neo4j_genai.generation import GraphRAG\n",
    "\n",
    "from IPython.display import Image as IPythonImage"
   ],
   "id": "ae0ee3b581bea530",
   "outputs": [],
   "execution_count": null
  },
  {
   "metadata": {},
   "cell_type": "code",
   "source": [
    "load_dotenv()\n",
    "NEO4J_URI = os.getenv(\"NEO4J_URI\", \"bolt://localhost:7687\")\n",
    "NEO4J_USER = os.getenv(\"NEO4J_USER\", \"neo4j\")\n",
    "NEO4J_PASSWORD = os.getenv(\"NEO4J_PASSWORD\", \"password\")\n",
    "NEO4J_DATABASE = os.getenv(\"NEO4J_DATABASE\", \"neo4j\")\n",
    "\n",
    "POSTER_INDEX_NAME = \"moviePostersEmbedding\"\n",
    "IMAGE_EMBEDDING_MODEL = \"clip-ViT-B-32\""
   ],
   "id": "f9cdddc2e075c3e3",
   "outputs": [],
   "execution_count": null
  },
  {
   "metadata": {},
   "cell_type": "code",
   "source": [
    "driver = neo4j.GraphDatabase.driver(\n",
    "    NEO4J_URI,\n",
    "    auth=(NEO4J_USER, NEO4J_PASSWORD),\n",
    "    database=NEO4J_DATABASE,\n",
    ")"
   ],
   "id": "2dbbf9698eab5ac6",
   "outputs": [],
   "execution_count": null
  },
  {
   "metadata": {},
   "cell_type": "markdown",
   "source": "## Search similar images",
   "id": "a158a68302d030b6"
  },
  {
   "metadata": {},
   "cell_type": "code",
   "source": "model = SentenceTransformer(IMAGE_EMBEDDING_MODEL)",
   "id": "8a287325b576a5fb",
   "outputs": [],
   "execution_count": null
  },
  {
   "metadata": {},
   "cell_type": "code",
   "source": [
    "image_path = \"./images/Notre-Dame_de_Paris_2013-07-24.jpg\"\n",
    "vector = model.encode(Image.open(image_path)).tolist()\n",
    "vector[:5]"
   ],
   "id": "e86f8ad5121fe322",
   "outputs": [],
   "execution_count": null
  },
  {
   "metadata": {},
   "cell_type": "code",
   "source": [
    "retriever = VectorRetriever(\n",
    "    driver,\n",
    "    index_name=POSTER_INDEX_NAME,\n",
    ")"
   ],
   "id": "ab26edb7f8d0cefb",
   "outputs": [],
   "execution_count": null
  },
  {
   "metadata": {},
   "cell_type": "code",
   "source": [
    "result = retriever.search(query_vector=vector, top_k=4)\n",
    "for r in result.items:\n",
    "    print(r)"
   ],
   "id": "5e874efe0b66556e",
   "outputs": [],
   "execution_count": null
  },
  {
   "metadata": {},
   "cell_type": "code",
   "source": [
    "retriever = VectorCypherRetriever(  # NEW\n",
    "    driver,\n",
    "    index_name=POSTER_INDEX_NAME,\n",
    "    retrieval_query=\"RETURN node.title as title, node.plot as plot, node.poster as posterUrl, score\",  # NEW\n",
    ")"
   ],
   "id": "bf121609151df373",
   "outputs": [],
   "execution_count": null
  },
  {
   "metadata": {},
   "cell_type": "code",
   "source": [
    "result = retriever.search(query_vector=vector, top_k=4)\n",
    "for r in result.items:\n",
    "    print(r)"
   ],
   "id": "2a82188978d34963",
   "outputs": [],
   "execution_count": null
  },
  {
   "metadata": {},
   "cell_type": "code",
   "source": [
    "def format_record_function(record: neo4j.Record) -> RetrieverResultItem:\n",
    "    return RetrieverResultItem(\n",
    "        content=f\"Movie title: {record.get('title')}, movie plot: {record.get('plot')}\",\n",
    "        metadata={\n",
    "            \"title\": record.get('title'),\n",
    "            \"plot\": record.get(\"plot\"),\n",
    "            \"poster\": record.get(\"posterUrl\"),\n",
    "            \"score\": record.get(\"score\"),\n",
    "        }\n",
    "    )\n",
    "\n",
    "\n",
    "retriever = VectorCypherRetriever(\n",
    "    driver,\n",
    "    index_name=POSTER_INDEX_NAME,\n",
    "    retrieval_query=\"RETURN node.title as title, node.plot as plot, node.poster as posterUrl, score\",\n",
    "    format_record_function=format_record_function,  # NEW\n",
    ")\n",
    "\n",
    "result = retriever.search(query_vector=vector, top_k=4)\n",
    "for r in result.items:\n",
    "    print(r.content, r.metadata[\"score\"])\n",
    "    display(IPythonImage(url=r.metadata[\"poster\"]))"
   ],
   "id": "7dce9bfcbfdbfbd7",
   "outputs": [],
   "execution_count": null
  },
  {
   "metadata": {},
   "cell_type": "markdown",
   "source": "## Search Images from its content",
   "id": "199cd30041b29aa0"
  },
  {
   "metadata": {},
   "cell_type": "code",
   "source": [
    "query_text = \"Find a movie taking place in Paris and explain the plot.\"\n",
    "top_k = 3"
   ],
   "id": "6eca35d37b19062a",
   "outputs": [],
   "execution_count": null
  },
  {
   "metadata": {},
   "cell_type": "code",
   "source": [
    "retriever = VectorCypherRetriever(\n",
    "    driver,\n",
    "    index_name=POSTER_INDEX_NAME,\n",
    "    retrieval_query=\"RETURN node.title as title, node.plot as plot, node.poster as posterUrl, score\",\n",
    "    embedder=SentenceTransformerEmbeddings(IMAGE_EMBEDDING_MODEL),  # NEW\n",
    "    format_record_function=format_record_function,\n",
    ")\n"
   ],
   "id": "b9abdf1cb5404ef8",
   "outputs": [],
   "execution_count": null
  },
  {
   "metadata": {},
   "cell_type": "code",
   "source": "result = retriever.search(query_text=query_text, top_k=top_k)",
   "id": "9973f52288b54310",
   "outputs": [],
   "execution_count": null
  },
  {
   "metadata": {},
   "cell_type": "code",
   "source": [
    "for r in result.items:\n",
    "    print(r.content, r.metadata.get(\"score\"))\n",
    "    display(IPythonImage(url=r.metadata[\"poster\"]))"
   ],
   "id": "cd32b0419fffe7c8",
   "outputs": [],
   "execution_count": null
  },
  {
   "metadata": {},
   "cell_type": "markdown",
   "source": "## RAG by searching on images",
   "id": "e1cb5b9c05ef2e4b"
  },
  {
   "metadata": {},
   "cell_type": "code",
   "source": [
    "from langchain_community.chat_models import ChatOllama\n",
    "llm = ChatOllama(model=\"llama3:8b\")\n",
    "rag = GraphRAG(retriever=retriever, llm=llm)\n",
    "rag_result = rag.search(\n",
    "    \"Find a movie taking place in Paris and explain the plot.\", \n",
    "    retriever_config={\"top_k\": top_k},\n",
    ")\n",
    "print(rag_result.answer)"
   ],
   "id": "d8b086c6bd548362",
   "outputs": [],
   "execution_count": null
  },
  {
   "metadata": {},
   "cell_type": "code",
   "source": [
    "class OllamaLLM(LLMInterface):\n",
    "\n",
    "    def invoke(self, input: str) -> LLMResponse:\n",
    "        response = ollama.chat(model=self.model_name, messages=[\n",
    "          {\n",
    "            'role': 'user',\n",
    "            'content': input,\n",
    "          },\n",
    "        ])\n",
    "        return LLMResponse(\n",
    "            content=response[\"message\"][\"content\"]\n",
    "        )"
   ],
   "id": "4d28ffa669fb1d19",
   "outputs": [],
   "execution_count": null
  },
  {
   "metadata": {},
   "cell_type": "code",
   "source": [
    "rag = GraphRAG(\n",
    "    retriever=retriever,\n",
    "    llm=OllamaLLM('llama3:8b')\n",
    ")"
   ],
   "id": "cad12745c97d7e3f",
   "outputs": [],
   "execution_count": null
  },
  {
   "metadata": {},
   "cell_type": "code",
   "source": [
    "rag_result = rag.search(\n",
    "    # \"Find a movie with astronauts and explain the plot.\", \n",
    "    \"Find a movie taking place in Paris and explain the plot.\", \n",
    "    retriever_config={\"top_k\": top_k},\n",
    "    return_context=True,\n",
    ")\n",
    "print(rag_result.answer)"
   ],
   "id": "50bc081b0fec905f",
   "outputs": [],
   "execution_count": null
  },
  {
   "metadata": {},
   "cell_type": "code",
   "source": "[r.content for r in rag_result.retriever_result.items]",
   "id": "c6b827c08d2e6258",
   "outputs": [],
   "execution_count": null
  },
  {
   "metadata": {},
   "cell_type": "code",
   "source": "",
   "id": "649c280f4839ddb3",
   "outputs": [],
   "execution_count": null
  }
 ],
 "metadata": {
  "kernelspec": {
   "display_name": "Python 3",
   "language": "python",
   "name": "python3"
  },
  "language_info": {
   "codemirror_mode": {
    "name": "ipython",
    "version": 2
   },
   "file_extension": ".py",
   "mimetype": "text/x-python",
   "name": "python",
   "nbconvert_exporter": "python",
   "pygments_lexer": "ipython2",
   "version": "2.7.6"
  }
 },
 "nbformat": 4,
 "nbformat_minor": 5
}
